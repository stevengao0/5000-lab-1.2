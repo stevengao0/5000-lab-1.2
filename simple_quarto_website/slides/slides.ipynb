{
 "cells": [
  {
   "cell_type": "markdown",
   "metadata": {},
   "source": [
    "---\n",
    "title: \"Data Science Presentation\"\n",
    "author: \"Steven Gao\"\n",
    "format: revealjs\n",
    "bibliography: ../reference.bib\n",
    "---\n",
    "\n",
    "## Introduction to Data Science\n",
    "\n",
    "Data science is a multidisciplinary field focused on deriving insights from data.\n",
    "\n",
    "![](images/data science.png)\n",
    "\n",
    "\n",
    "## The Data Science Process\n",
    "\n",
    "1. Data Collection\n",
    "2. Data Cleaning\n",
    "3. Data Analysis\n",
    "\n",
    "![](images/data process.png)\n",
    "\n",
    "## Python Plot Example\n",
    "\n",
    "```{.python code-line-numbers=\"7-9\"}\n",
    "import numpy as np\n",
    "import matplotlib.pyplot as plt\n",
    "\n",
    "x = np.linspace(0, 10, 100)\n",
    "y = np.sin(x)\n",
    "plt.plot(x, y)\n",
    "plt.title('Sine Wave')\n",
    "plt.xlabel('X Axis')\n",
    "plt.ylabel('Y Axis')\n",
    "plt.show()\n",
    "```\n",
    "\n",
    "## Conclusion\n",
    "\n",
    "Data science has revolutionized industries by providing actionable insights.\n"
   ]
  }
 ],
 "metadata": {
  "kernelspec": {
   "display_name": "Python 3",
   "language": "python",
   "name": "python3"
  },
  "language_info": {
   "codemirror_mode": {
    "name": "ipython",
    "version": 3
   },
   "file_extension": ".py",
   "mimetype": "text/x-python",
   "name": "python",
   "nbconvert_exporter": "python",
   "pygments_lexer": "ipython3",
   "version": "3.12.6"
  }
 },
 "nbformat": 4,
 "nbformat_minor": 2
}
